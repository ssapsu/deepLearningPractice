{
 "cells": [
  {
   "cell_type": "code",
   "execution_count": null,
   "metadata": {},
   "outputs": [],
   "source": [
    "import pandas as pd\n",
    "import numpy as np\n",
    "import matplotlib.pyplot as plt"
   ]
  },
  {
   "cell_type": "code",
   "execution_count": null,
   "metadata": {},
   "outputs": [],
   "source": [
    "filepath = \"./data/1585 Ga raw.xlsx\""
   ]
  },
  {
   "cell_type": "code",
   "execution_count": null,
   "metadata": {},
   "outputs": [],
   "source": [
    "DODI_C_20 = pd.read_excel(filepath, sheet_name = 0,engine = \"openpyxl\", header = None)\n",
    "PROD_C_20 = pd.read_excel(filepath, sheet_name = 1,engine = \"openpyxl\", header = None)\n",
    "DODI_D_20 = pd.read_excel(filepath, sheet_name = 2,engine = \"openpyxl\", header = None)\n",
    "PROD_D_20 = pd.read_excel(filepath, sheet_name = 3,engine = \"openpyxl\", header = None)\n",
    "DODI_C_rt = pd.read_excel(filepath, sheet_name = 4,engine = \"openpyxl\", header = None)\n",
    "PROD_C_rt = pd.read_excel(filepath, sheet_name = 5,engine = \"openpyxl\", header = None)\n",
    "DODI_D_rt = pd.read_excel(filepath, sheet_name = 6,engine = \"openpyxl\", header = None)\n",
    "PROD_D_rt = pd.read_excel(filepath, sheet_name = 7,engine = \"openpyxl\", header = None)\n",
    "DODI_C_60 = pd.read_excel(filepath, sheet_name = 8,engine = \"openpyxl\", header = None)\n",
    "PROD_C_60 = pd.read_excel(filepath, sheet_name = 9,engine = \"openpyxl\", header = None)\n",
    "DODI_D_60 = pd.read_excel(filepath, sheet_name = 10,engine = \"openpyxl\", header = None)\n",
    "PROD_D_60 = pd.read_excel(filepath, sheet_name = 11,engine = \"openpyxl\", header = None)\n",
    "\n",
    "batteryListName= [\n",
    "    ['DODI_C_20','DODI_C_rt','DODI_C_60'],\n",
    "    ['DODI_D_20','DODI_D_rt','DODI_D_60'],\n",
    "    ['PROD_C_20','PROD_C_rt','PROD_C_60'],\n",
    "    ['PROD_D_20','PROD_D_rt','PROD_D_60']\n",
    "]\n",
    "\n",
    "batteryList = [\n",
    "    [DODI_C_20, DODI_C_rt, DODI_C_60],\n",
    "    [DODI_D_20,DODI_D_rt,DODI_D_60],\n",
    "    [PROD_C_20,PROD_C_rt,PROD_C_60],\n",
    "    [PROD_D_20,PROD_D_rt,PROD_D_60]\n",
    "]\n",
    "\n",
    "for i in range(0,4):\n",
    "    for j in range(0,3):\n",
    "        dataSet = batteryList[i][j]\n",
    "        dataSet.replace('', np.nan, inplace=True)"
   ]
  },
  {
   "cell_type": "code",
   "execution_count": null,
   "metadata": {},
   "outputs": [],
   "source": [
    "def printBatteryData():\n",
    "    count = 1\n",
    "    plt.figure(figsize=(16,16))\n",
    "    for i in range(0,4):\n",
    "        for j in range(0,3):\n",
    "            dataSet = batteryList[i][j]\n",
    "            plt.subplot(4,3,count)\n",
    "            plt.title(batteryListName[i][j])\n",
    "            for k in range(1, (int)(dataSet.shape[1])-1, 2):\n",
    "                plt.plot(dataSet.iloc[:,[k+1]], dataSet.iloc[:,[k]])\n",
    "            plt.xlabel('coulomb')\n",
    "            plt.ylabel('Volatage')\n",
    "            count += 1"
   ]
  },
  {
   "cell_type": "code",
   "execution_count": null,
   "metadata": {},
   "outputs": [],
   "source": [
    "printBatteryData()"
   ]
  },
  {
   "cell_type": "code",
   "execution_count": null,
   "metadata": {},
   "outputs": [],
   "source": [
    "from tensorflow.keras.models import Sequential, load_model\n",
    "from tensorflow.keras.layers import Dense, LSTM, Dropout, Conv3D, Conv1D\n",
    "from sklearn.model_selection import KFold"
   ]
  },
  {
   "cell_type": "code",
   "execution_count": null,
   "metadata": {},
   "outputs": [],
   "source": [
    "kfold_num = 5\n",
    "window_size = 20\n",
    "horizon = 1\n",
    "filters = 512\n",
    "kernel_size = 3\n",
    "dimension = 3\n",
    "epochs = 30\n",
    "batch_size = 50"
   ]
  },
  {
   "cell_type": "code",
   "execution_count": null,
   "metadata": {},
   "outputs": [],
   "source": [
    "class DataPreprocessing:\n",
    "    def getSequence(dataFrame, temp, i):\n",
    "        seq = dataFrame.iloc[:,[2*i,2*i+1]].copy()\n",
    "        seq.dropna(axis=0, inplace=True)\n",
    "        seq = seq.to_numpy()\n",
    "        tempSeq = np.array(seq.shape[0], dtype = float)\n",
    "        tempSeq = np.full((seq.shape[0],1),temp)\n",
    "        seq = np.append(seq, tempSeq[:,-1:], axis = 1)\n",
    "        return seq\n",
    "    #시계열 데이터를 윈도우 단위로 자르는 함수\n",
    "    def seq2dataset(seq,window,horizon):\n",
    "        X=[]; Y=[]\n",
    "        for i in range(len(seq)-(window+horizon)+1):\n",
    "            x=seq[i:(i+window)]\n",
    "            y=(seq[i+window+horizon-1])\n",
    "            X.append(x); Y.append(y)\n",
    "        return np.array(X), np.array(Y)"
   ]
  },
  {
   "cell_type": "code",
   "execution_count": null,
   "metadata": {},
   "outputs": [],
   "source": [
    "plt.title(\"asdf\")\n",
    "df = DODI_C_60.iloc[:,[0,1]].copy()\n",
    "plt.plot(df.iloc[:,[0]], df.iloc[:,[1]])\n",
    "plt.xlabel('coulomb')\n",
    "plt.ylabel('Volatage')"
   ]
  },
  {
   "cell_type": "code",
   "execution_count": null,
   "metadata": {},
   "outputs": [],
   "source": [
    "class DrawPlot:\n",
    "    def drawValidCurve(hist):\n",
    "        plt.plot(hist.history['mae'])\n",
    "        plt.plot(hist.history['val_mae'])\n",
    "        plt.title('Model mae')\n",
    "        plt.ylabel('mae')\n",
    "        plt.xlabel('Epoch')\n",
    "        plt.legend(['Train','Validation'], loc='best')\n",
    "        plt.grid()\n",
    "        plt.show()\n",
    "    \n",
    "    def drawPrediction(i,j,pred,y_test):\n",
    "        plt.figure(figsize=(8,8))\n",
    "        x_range=range(y_test.shape[0])\n",
    "        plt.plot(x_range,y_test[x_range,1],color='red',linestyle='dotted')\n",
    "        plt.plot(x_range,pred[x_range,1],color='green',linestyle='dashed')\n",
    "        plt.title(batteryListName[i][j])\n",
    "        plt.legend(['True value','Predicted value'], loc='best')\n",
    "        plt.grid()\n",
    "        plt.show()\n",
    "        "
   ]
  },
  {
   "cell_type": "code",
   "execution_count": null,
   "metadata": {},
   "outputs": [],
   "source": [
    "def deepLearn(dataList):\n",
    "    for num1 in range(0,2):\n",
    "        for num2 in range(0,3):\n",
    "            if num2==0:\n",
    "                temp = -20\n",
    "            elif num2==1:\n",
    "                temp = 20\n",
    "            else:\n",
    "                temp = 60\n",
    "            dataFrame = dataList[num1][num2]\n",
    "            len = (int)(dataFrame.shape[1]/2)\n",
    "            for i in range(len):\n",
    "                seq = DataPreprocessing.getSequence(dataFrame, temp, i)\n",
    "                \n",
    "                kfold = KFold(n_splits=kfold_num)\n",
    "                \n",
    "                X,Y = DataPreprocessing.seq2dataset(seq,window_size,horizon)\n",
    "                for train_idx, test_idx in kfold.split(X):\n",
    "                    x_train, x_test = X[train_idx],X[test_idx]\n",
    "                    y_train, y_test = Y[train_idx],Y[test_idx]\n",
    "\n",
    "                    model = Sequential()\n",
    "                    model.add(Conv1D(filters = filters, kernel_size = kernel_size, input_shape = (window_size, dimension),padding = 'same', activation = 'relu'))\n",
    "                    model.add(Dropout(0.2))\n",
    "                    model.add(Conv1D(filters = filters, kernel_size = kernel_size, padding = 'same', activation = 'relu'))\n",
    "                    model.add(Dropout(0.2))\n",
    "                    model.add(Conv1D(filters = filters, kernel_size = kernel_size, padding = 'same', activation = 'relu'))\n",
    "                    model.add(Dropout(0.2))\n",
    "                    model.add(LSTM(units=64,input_shape=x_train[0].shape, return_sequences=True))\n",
    "                    model.add(LSTM(units=64, return_sequences=False))\n",
    "                    model.add(Dense(3))\n",
    "                    model.compile(loss='mae')\n",
    "                    model.compile(loss='mae', optimizer='adam', metrics='mae')\n",
    "                    hist=model.fit(x_train,y_train,epochs=epochs,batch_size=batch_size,validation_data=(x_test,y_test),verbose=1)\n",
    "\n",
    "                    ev=model.evaluate(x_test,y_test,verbose=1)\n",
    "                    print(\"손실 함수:\", ev[0], \"MAE:\", ev[1])\n",
    "\n",
    "                    pred=model.predict(x_test)\n",
    "                    \n",
    "                    # division = x_test.shape[0]\n",
    "                    print(\"LSTM 평균절댓값백분율오차(MAPE):\",sum(abs(y_test-pred)/y_test)/x_test.shape[0])\n",
    "\n",
    "                    DrawPlot.drawValidCurve(hist)\n",
    "\n",
    "                    pred = model.predict(X)\n",
    "                    y_test = Y\n",
    "                    \n",
    "                    DrawPlot.drawPrediction(num1, num2, pred, y_test)\n",
    "\n",
    "                    model.save('./ohs_model')\n",
    "            "
   ]
  },
  {
   "cell_type": "code",
   "execution_count": null,
   "metadata": {},
   "outputs": [],
   "source": [
    "deepLearn(batteryList)"
   ]
  }
 ],
 "metadata": {
  "language_info": {
   "name": "python"
  },
  "orig_nbformat": 4
 },
 "nbformat": 4,
 "nbformat_minor": 2
}
